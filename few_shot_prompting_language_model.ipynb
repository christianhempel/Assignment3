{
 "cells": [
  {
   "cell_type": "code",
   "execution_count": 1,
   "metadata": {},
   "outputs": [],
   "source": [
    "from transformers import GPT2LMHeadModel, GPT2Tokenizer\n",
    "import torch"
   ]
  },
  {
   "cell_type": "code",
   "execution_count": 74,
   "metadata": {},
   "outputs": [],
   "source": [
    "from transformers import GPT2LMHeadModel, GPT2Tokenizer\n",
    "\n",
    "# Load the GPT-2 model and tokenizer\n",
    "tokenizer = GPT2Tokenizer.from_pretrained('gpt2')\n",
    "tokenizer.pad_token = tokenizer.eos_token\n",
    "model = GPT2LMHeadModel.from_pretrained('gpt2')\n",
    "model.eval()\n",
    "\n",
    "# TODO: Prepare the few-shot prompt with examples\n",
    "few_shot_prompt = \"\"\"\n",
    "Here is a classification of the review of some movies and their sentiment which is either positive or negative:\n",
    "\n",
    "Review: The movie was fantastic, with stunning visuals and a great story.\n",
    "Sentiment: Positive\n",
    "Review: The acting was top-notch.\n",
    "Sentiment: Positive\n",
    "Review: I found the film boring and overly long. Not worth watching.\n",
    "Sentiment: Negative\n",
    "Review: The characters were shallow, and the story was predictable.\n",
    "Sentiment: Negative\n",
    "\"\"\"\n",
    "\n",
    "# TODO: Define a function to get GPT-2 prediction for a new sentence\n",
    "def get_gpt2_prediction(sentence):\n",
    "    prompt = few_shot_prompt + f\"Review: {sentence}\\nSentiment:\"\n",
    "    \n",
    "    # Encode with padding\n",
    "    inputs = tokenizer(prompt, return_tensors='pt', padding=True)\n",
    "    \n",
    "    # Pass attention_mask and pad_token_id to generate()\n",
    "    outputs = model.generate(\n",
    "        inputs['input_ids'],\n",
    "        attention_mask=inputs['attention_mask'],\n",
    "        max_length=inputs['input_ids'].shape[1] + 10,\n",
    "        do_sample=False,\n",
    "        num_beams=5,\n",
    "        early_stopping=True,\n",
    "        pad_token_id=tokenizer.pad_token_id\n",
    "    )\n",
    "    \n",
    "    # Convert generated text to lowercase for more robust matching\n",
    "    generated_text = tokenizer.decode(outputs[0]).lower()\n",
    "    #print(\"\\n\\n\", generated_text, \"\\n\\n\")\n",
    "    generated_text = \"review:\" + generated_text.split(\"review:\")[-1]\n",
    "    #print(\"\\n\\n\", generated_text, \"\\n\\n\")\n",
    "\n",
    "    \n",
    "    # Post-process to extract the sentiment prediction\n",
    "    if \"positive\" in generated_text:\n",
    "        return \"Positive\"\n",
    "    elif \"negative\" in generated_text:\n",
    "        return \"Negative\"\n",
    "    else:\n",
    "        return \"Unknown\""
   ]
  },
  {
   "cell_type": "code",
   "execution_count": 75,
   "metadata": {},
   "outputs": [
    {
     "name": "stdout",
     "output_type": "stream",
     "text": [
      "Review: I loved the cinematography and the acting was brilliant.\n",
      "Predicted Sentiment: Negative\n",
      "\n",
      "Review: The story was boring and the pacing was way too slow.\n",
      "Predicted Sentiment: Negative\n",
      "\n",
      "Review: A complete masterpiece! I would watch it again.\n",
      "Predicted Sentiment: Positive\n",
      "\n",
      "Review: Terrible movie, very shallow and i cringed all the time. I regret wasting my time on it.\n",
      "Predicted Sentiment: Negative\n",
      "\n",
      "Review: The movie was fantastic, i liked a lot of stuff from it.\n",
      "Predicted Sentiment: Negative\n",
      "\n"
     ]
    }
   ],
   "source": [
    "test_reviews = [\n",
    "    \"I loved the cinematography and the acting was brilliant.\",\n",
    "    \"The story was boring and the pacing was way too slow.\",\n",
    "    \"A complete masterpiece! I would watch it again.\",\n",
    "    \"Terrible movie, very shallow and i cringed all the time. I regret wasting my time on it.\",\n",
    "    'The movie was fantastic, i liked a lot of stuff from it.'\n",
    "]\n",
    "\n",
    "# Test each review\n",
    "for review in test_reviews:\n",
    "    sentiment = get_gpt2_prediction(review)\n",
    "    print(f\"Review: {review}\")\n",
    "    print(f\"Predicted Sentiment: {sentiment}\\n\")"
   ]
  }
 ],
 "metadata": {
  "kernelspec": {
   "display_name": "Python 3",
   "language": "python",
   "name": "python3"
  },
  "language_info": {
   "codemirror_mode": {
    "name": "ipython",
    "version": 3
   },
   "file_extension": ".py",
   "mimetype": "text/x-python",
   "name": "python",
   "nbconvert_exporter": "python",
   "pygments_lexer": "ipython3",
   "version": "3.8.2"
  }
 },
 "nbformat": 4,
 "nbformat_minor": 2
}
